{
 "cells": [
  {
   "cell_type": "markdown",
   "metadata": {},
   "source": [
    "## [作業目標]\n",
    "了解機器學習適合應用的領域與範疇。"
   ]
  },
  {
   "cell_type": "markdown",
   "metadata": {},
   "source": [
    "## [作業重點]\n",
    "透過瞭解機器學習的運作方式，找出非常適用機器學習應用的領域及其原因"
   ]
  },
  {
   "cell_type": "markdown",
   "metadata": {},
   "source": [
    "## 作業\n",
    "請找出一個你認為機器學習可以發光發熱的領域並闡述原因? "
   ]
  },
  {
   "cell_type": "markdown",
   "metadata": {},
   "source": [
    "餐飲業:\n",
    "    \n",
    "    例如麥當勞。\n",
    "    \n",
    "    常見麥當勞內場運作為，客人點餐後顯示餐點內容，內場人員依序餐點內容為其製作餐點，將餐點(漢堡、炸機)以推出的方式聚集在與外場交界之處\n",
    "    \n",
    "    外場於一聚寶盆內依照客人點餐之內容，將其拿起並放入外帶紙袋或內用托盤內。\n",
    "    \n",
    "    若導入機器學習的話(監督是學習)，只要機器能夠識字、辨識外型就能得知推出之餐點為何\n",
    "    \n",
    "    聚寶盆可以仿效彈珠檯打彈珠時，將推出之餐點藉由機器辨識\n",
    "    \n",
    "    直接排進客人的取餐編號，這樣外場的員工可以減少時間在辨識多種餐點並更專注於收單，提供營業額。\n",
    "    \n",
    "    當機器訓練得宜時，便可省去人力。"
   ]
  }
 ],
 "metadata": {
  "kernelspec": {
   "display_name": "Python 3",
   "language": "python",
   "name": "python3"
  },
  "language_info": {
   "codemirror_mode": {
    "name": "ipython",
    "version": 3
   },
   "file_extension": ".py",
   "mimetype": "text/x-python",
   "name": "python",
   "nbconvert_exporter": "python",
   "pygments_lexer": "ipython3",
   "version": "3.7.4"
  }
 },
 "nbformat": 4,
 "nbformat_minor": 2
}
